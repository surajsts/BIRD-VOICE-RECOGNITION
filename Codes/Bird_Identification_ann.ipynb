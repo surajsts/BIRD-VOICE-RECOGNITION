{
  "nbformat": 4,
  "nbformat_minor": 0,
  "metadata": {
    "colab": {
      "provenance": []
    },
    "kernelspec": {
      "name": "python3",
      "display_name": "Python 3"
    },
    "language_info": {
      "name": "python"
    },
    "accelerator": "TPU",
    "gpuClass": "standard"
  },
  "cells": [
    {
      "cell_type": "code",
      "execution_count": null,
      "metadata": {
        "id": "0itHTQBlP_3y"
      },
      "outputs": [],
      "source": [
        "import matplotlib\n",
        "matplotlib.pyplot.ion()"
      ]
    },
    {
      "cell_type": "code",
      "source": [
        "from google.colab import drive\n",
        "drive.mount('/content/drive')"
      ],
      "metadata": {
        "id": "2DJc8gIX2g-A",
        "colab": {
          "base_uri": "https://localhost:8080/"
        },
        "outputId": "477e74c2-3395-4dc0-dd16-174d64fb320a"
      },
      "execution_count": null,
      "outputs": [
        {
          "output_type": "stream",
          "name": "stdout",
          "text": [
            "Drive already mounted at /content/drive; to attempt to forcibly remount, call drive.mount(\"/content/drive\", force_remount=True).\n"
          ]
        }
      ]
    },
    {
      "cell_type": "code",
      "source": [
        "import json\n",
        "import numpy as np\n",
        "from sklearn.preprocessing import LabelEncoder\n",
        "def load_data(dataset_path):\n",
        "  l = LabelEncoder()\n",
        "  with open(dataset_path,\"r\") as fp:\n",
        "    data = json.load(fp)\n",
        "\n",
        "  inputs = np.array(data[\"mfcc\"])\n",
        "  target = np.array(data[\"labels\"])\n",
        "  target = l.fit_transform(target)\n",
        "  return inputs,target\n",
        "\n",
        "dataset_path = \"/content/drive/MyDrive/data_audio.json\"\n",
        "\n",
        "inputs,target = load_data(dataset_path)"
      ],
      "metadata": {
        "id": "2XrhE50jQD64"
      },
      "execution_count": null,
      "outputs": []
    },
    {
      "cell_type": "code",
      "source": [
        "from sklearn.preprocessing import LabelEncoder\n",
        "import numpy as np\n",
        "a = LabelEncoder()\n",
        "\n",
        "\n",
        "b = a.fit_transform(np.array([\"shsf\",\"svdsb\",\"shsf\"]))\n",
        "type(b)"
      ],
      "metadata": {
        "colab": {
          "base_uri": "https://localhost:8080/"
        },
        "id": "nZnNx6_n7WRr",
        "outputId": "5cf94438-f83c-4c9a-ed71-35651ecac06b"
      },
      "execution_count": null,
      "outputs": [
        {
          "output_type": "execute_result",
          "data": {
            "text/plain": [
              "numpy.ndarray"
            ]
          },
          "metadata": {},
          "execution_count": 8
        }
      ]
    },
    {
      "cell_type": "code",
      "source": [
        "from sklearn.model_selection import train_test_split\n",
        "import tensorflow.keras as keras\n",
        "\n",
        "# splitting the data into train and test sets\n",
        "\n",
        "inputs_train,inputs_test, target_train,target_test = train_test_split(inputs,target,test_size = 0.3)\n",
        "\n",
        "#building ann\n",
        "\n",
        "model = keras.Sequential([\n",
        "    #input layer\n",
        "    keras.layers.Flatten(input_shape = (inputs.shape[1],inputs.shape[2])),\n",
        "    \n",
        "    #1st hidden layer\n",
        "    keras.layers.Dense(512,activation = \"relu\"),\n",
        "    \n",
        "    #2nd\n",
        "    keras.layers.Dense(512,activation = \"relu\"),\n",
        "    \n",
        "    #3rd\n",
        "    keras.layers.Dense(512,activation = \"relu\"),\n",
        "    \n",
        "    #output layer\n",
        "    keras.layers.Dense(264,activation = \"softmax\")\n",
        "])\n",
        "\n",
        "#compile ann\n",
        "optimizer = keras.optimizers.Adam(learning_rate = 0.0001)\n",
        "model.compile(optimizer = optimizer, loss = \"sparse_categorical_crossentropy\",metrics = [\"accuracy\"])\n",
        "\n",
        "\n",
        "# training\n",
        "model.fit(inputs_train,target_train,validation_data = (inputs_test,target_test),epochs = 50,batch_size = 32)\n"
      ],
      "metadata": {
        "id": "5uxi2QIjQvTL",
        "colab": {
          "base_uri": "https://localhost:8080/"
        },
        "outputId": "327a0106-b5ac-4809-97aa-8a7d06782426"
      },
      "execution_count": null,
      "outputs": [
        {
          "output_type": "stream",
          "name": "stdout",
          "text": [
            "Epoch 1/50\n",
            "405/405 [==============================] - 6s 5ms/step - loss: 12.1064 - accuracy: 0.0530 - val_loss: 6.0472 - val_accuracy: 0.0651\n",
            "Epoch 2/50\n",
            "405/405 [==============================] - 2s 4ms/step - loss: 4.9149 - accuracy: 0.0906 - val_loss: 4.5015 - val_accuracy: 0.0796\n",
            "Epoch 3/50\n",
            "405/405 [==============================] - 2s 5ms/step - loss: 4.1091 - accuracy: 0.1186 - val_loss: 4.2341 - val_accuracy: 0.1019\n",
            "Epoch 4/50\n",
            "405/405 [==============================] - 2s 4ms/step - loss: 3.7432 - accuracy: 0.1505 - val_loss: 4.1747 - val_accuracy: 0.1176\n",
            "Epoch 5/50\n",
            "405/405 [==============================] - 2s 5ms/step - loss: 3.5254 - accuracy: 0.1786 - val_loss: 3.8335 - val_accuracy: 0.1424\n",
            "Epoch 6/50\n",
            "405/405 [==============================] - 2s 4ms/step - loss: 3.3009 - accuracy: 0.2094 - val_loss: 3.8020 - val_accuracy: 0.1494\n",
            "Epoch 7/50\n",
            "405/405 [==============================] - 2s 5ms/step - loss: 3.1564 - accuracy: 0.2318 - val_loss: 3.7841 - val_accuracy: 0.1335\n",
            "Epoch 8/50\n",
            "405/405 [==============================] - 2s 4ms/step - loss: 3.0514 - accuracy: 0.2535 - val_loss: 3.6993 - val_accuracy: 0.1568\n",
            "Epoch 9/50\n",
            "405/405 [==============================] - 2s 4ms/step - loss: 2.8554 - accuracy: 0.2913 - val_loss: 3.5973 - val_accuracy: 0.1779\n",
            "Epoch 10/50\n",
            "405/405 [==============================] - 2s 5ms/step - loss: 2.7474 - accuracy: 0.3060 - val_loss: 3.4601 - val_accuracy: 0.2043\n",
            "Epoch 11/50\n",
            "405/405 [==============================] - 2s 5ms/step - loss: 2.6283 - accuracy: 0.3340 - val_loss: 3.5532 - val_accuracy: 0.1905\n",
            "Epoch 12/50\n",
            "405/405 [==============================] - 2s 5ms/step - loss: 2.5074 - accuracy: 0.3602 - val_loss: 3.3662 - val_accuracy: 0.2182\n",
            "Epoch 13/50\n",
            "405/405 [==============================] - 2s 4ms/step - loss: 2.3558 - accuracy: 0.3918 - val_loss: 3.3173 - val_accuracy: 0.2297\n",
            "Epoch 14/50\n",
            "405/405 [==============================] - 2s 4ms/step - loss: 2.2519 - accuracy: 0.4123 - val_loss: 3.3599 - val_accuracy: 0.2438\n",
            "Epoch 15/50\n",
            "405/405 [==============================] - 2s 4ms/step - loss: 2.1289 - accuracy: 0.4415 - val_loss: 3.3202 - val_accuracy: 0.2465\n",
            "Epoch 16/50\n",
            "405/405 [==============================] - 2s 4ms/step - loss: 2.0430 - accuracy: 0.4681 - val_loss: 3.3633 - val_accuracy: 0.2458\n",
            "Epoch 17/50\n",
            "405/405 [==============================] - 2s 5ms/step - loss: 1.9067 - accuracy: 0.4948 - val_loss: 3.2746 - val_accuracy: 0.2638\n",
            "Epoch 18/50\n",
            "405/405 [==============================] - 2s 5ms/step - loss: 1.7960 - accuracy: 0.5241 - val_loss: 3.3327 - val_accuracy: 0.2676\n",
            "Epoch 19/50\n",
            "405/405 [==============================] - 2s 5ms/step - loss: 1.6897 - accuracy: 0.5425 - val_loss: 3.2309 - val_accuracy: 0.2947\n",
            "Epoch 20/50\n",
            "405/405 [==============================] - 2s 5ms/step - loss: 1.5440 - accuracy: 0.5822 - val_loss: 3.2597 - val_accuracy: 0.2869\n",
            "Epoch 21/50\n",
            "405/405 [==============================] - 2s 4ms/step - loss: 1.4622 - accuracy: 0.6048 - val_loss: 3.2648 - val_accuracy: 0.3058\n",
            "Epoch 22/50\n",
            "405/405 [==============================] - 2s 5ms/step - loss: 1.3882 - accuracy: 0.6196 - val_loss: 3.2691 - val_accuracy: 0.3069\n",
            "Epoch 23/50\n",
            "405/405 [==============================] - 2s 5ms/step - loss: 1.3346 - accuracy: 0.6400 - val_loss: 3.3769 - val_accuracy: 0.3098\n",
            "Epoch 24/50\n",
            "405/405 [==============================] - 2s 4ms/step - loss: 1.2802 - accuracy: 0.6493 - val_loss: 3.2674 - val_accuracy: 0.3196\n",
            "Epoch 25/50\n",
            "405/405 [==============================] - 2s 4ms/step - loss: 1.0947 - accuracy: 0.6934 - val_loss: 3.3908 - val_accuracy: 0.3262\n",
            "Epoch 26/50\n",
            "405/405 [==============================] - 2s 5ms/step - loss: 1.0394 - accuracy: 0.7084 - val_loss: 3.3497 - val_accuracy: 0.3329\n",
            "Epoch 27/50\n",
            "405/405 [==============================] - 2s 5ms/step - loss: 0.9584 - accuracy: 0.7348 - val_loss: 3.4764 - val_accuracy: 0.3111\n",
            "Epoch 28/50\n",
            "405/405 [==============================] - 2s 4ms/step - loss: 0.8983 - accuracy: 0.7535 - val_loss: 3.4112 - val_accuracy: 0.3371\n",
            "Epoch 29/50\n",
            "405/405 [==============================] - 2s 4ms/step - loss: 0.8392 - accuracy: 0.7654 - val_loss: 3.4697 - val_accuracy: 0.3452\n",
            "Epoch 30/50\n",
            "405/405 [==============================] - 2s 5ms/step - loss: 0.8107 - accuracy: 0.7744 - val_loss: 3.4177 - val_accuracy: 0.3676\n",
            "Epoch 31/50\n",
            "405/405 [==============================] - 2s 5ms/step - loss: 0.7456 - accuracy: 0.7856 - val_loss: 3.5281 - val_accuracy: 0.3652\n",
            "Epoch 32/50\n",
            "405/405 [==============================] - 2s 4ms/step - loss: 0.6590 - accuracy: 0.8138 - val_loss: 3.5962 - val_accuracy: 0.3697\n",
            "Epoch 33/50\n",
            "405/405 [==============================] - 2s 4ms/step - loss: 0.6070 - accuracy: 0.8312 - val_loss: 3.5707 - val_accuracy: 0.3784\n",
            "Epoch 34/50\n",
            "405/405 [==============================] - 2s 5ms/step - loss: 0.5895 - accuracy: 0.8346 - val_loss: 3.6062 - val_accuracy: 0.3769\n",
            "Epoch 35/50\n",
            "405/405 [==============================] - 2s 5ms/step - loss: 0.5732 - accuracy: 0.8382 - val_loss: 3.8042 - val_accuracy: 0.3614\n",
            "Epoch 36/50\n",
            "405/405 [==============================] - 2s 5ms/step - loss: 0.5469 - accuracy: 0.8456 - val_loss: 3.6666 - val_accuracy: 0.3831\n",
            "Epoch 37/50\n",
            "405/405 [==============================] - 2s 4ms/step - loss: 0.4915 - accuracy: 0.8590 - val_loss: 3.7734 - val_accuracy: 0.3804\n",
            "Epoch 38/50\n",
            "405/405 [==============================] - 2s 5ms/step - loss: 0.4276 - accuracy: 0.8811 - val_loss: 3.7477 - val_accuracy: 0.3982\n",
            "Epoch 39/50\n",
            "405/405 [==============================] - 2s 5ms/step - loss: 0.4495 - accuracy: 0.8731 - val_loss: 3.8281 - val_accuracy: 0.3977\n",
            "Epoch 40/50\n",
            "405/405 [==============================] - 2s 5ms/step - loss: 0.3646 - accuracy: 0.8964 - val_loss: 4.1028 - val_accuracy: 0.3898\n",
            "Epoch 41/50\n",
            "405/405 [==============================] - 2s 5ms/step - loss: 0.5876 - accuracy: 0.8357 - val_loss: 3.9032 - val_accuracy: 0.3986\n",
            "Epoch 42/50\n",
            "405/405 [==============================] - 2s 4ms/step - loss: 0.3189 - accuracy: 0.9090 - val_loss: 3.9529 - val_accuracy: 0.3997\n",
            "Epoch 43/50\n",
            "405/405 [==============================] - 2s 5ms/step - loss: 0.4589 - accuracy: 0.8704 - val_loss: 4.0211 - val_accuracy: 0.4127\n",
            "Epoch 44/50\n",
            "405/405 [==============================] - 2s 4ms/step - loss: 0.2551 - accuracy: 0.9282 - val_loss: 4.0216 - val_accuracy: 0.4177\n",
            "Epoch 45/50\n",
            "405/405 [==============================] - 2s 5ms/step - loss: 0.2203 - accuracy: 0.9368 - val_loss: 4.3266 - val_accuracy: 0.4062\n",
            "Epoch 46/50\n",
            "405/405 [==============================] - 2s 5ms/step - loss: 0.5461 - accuracy: 0.8517 - val_loss: 4.1266 - val_accuracy: 0.4148\n",
            "Epoch 47/50\n",
            "405/405 [==============================] - 2s 5ms/step - loss: 0.2100 - accuracy: 0.9418 - val_loss: 4.2305 - val_accuracy: 0.4125\n",
            "Epoch 48/50\n",
            "405/405 [==============================] - 2s 4ms/step - loss: 0.2578 - accuracy: 0.9260 - val_loss: 4.1203 - val_accuracy: 0.4220\n",
            "Epoch 49/50\n",
            "405/405 [==============================] - 2s 4ms/step - loss: 0.3117 - accuracy: 0.9069 - val_loss: 4.4965 - val_accuracy: 0.4035\n",
            "Epoch 50/50\n",
            "405/405 [==============================] - 2s 5ms/step - loss: 0.2355 - accuracy: 0.9325 - val_loss: 4.4471 - val_accuracy: 0.4125\n"
          ]
        },
        {
          "output_type": "execute_result",
          "data": {
            "text/plain": [
              "<keras.callbacks.History at 0x7fbd4d1eda00>"
            ]
          },
          "metadata": {},
          "execution_count": 11
        }
      ]
    },
    {
      "cell_type": "code",
      "source": [
        "import numpy\n",
        "numpy.__version__"
      ],
      "metadata": {
        "colab": {
          "base_uri": "https://localhost:8080/",
          "height": 36
        },
        "id": "oXiuvVnh51dR",
        "outputId": "e5943c04-e8c8-4c80-a1ba-14b454f3a6af"
      },
      "execution_count": null,
      "outputs": [
        {
          "output_type": "execute_result",
          "data": {
            "text/plain": [
              "'1.21.6'"
            ],
            "application/vnd.google.colaboratory.intrinsic+json": {
              "type": "string"
            }
          },
          "metadata": {},
          "execution_count": 13
        }
      ]
    },
    {
      "cell_type": "code",
      "source": [],
      "metadata": {
        "id": "Zfogyt2IUcQH"
      },
      "execution_count": null,
      "outputs": []
    }
  ]
}
